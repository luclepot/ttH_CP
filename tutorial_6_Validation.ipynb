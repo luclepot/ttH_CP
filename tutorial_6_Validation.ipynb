{
 "cells": [
  {
   "cell_type": "code",
   "execution_count": 6,
   "metadata": {},
   "outputs": [],
   "source": [
    "from __future__ import absolute_import, division, print_function, unicode_literals\n",
    "\n",
    "import numpy as np\n",
    "import matplotlib\n",
    "from matplotlib import pyplot as plt\n",
    "%matplotlib inline\n",
    "import logging\n",
    "\n",
    "from madminer.core import MadMiner\n",
    "from madminer.plotting import plot_2d_morphing_basis\n",
    "from madminer.delphes import DelphesProcessor\n",
    "from madminer.sampling import combine_and_shuffle\n",
    "from madminer.sampling import SampleAugmenter\n",
    "from madminer.sampling import constant_benchmark_theta, multiple_benchmark_thetas\n",
    "from madminer.sampling import constant_morphing_theta, multiple_morphing_thetas, random_morphing_thetas\n",
    "from madminer.ml import MLForge\n"
   ]
  },
  {
   "cell_type": "code",
   "execution_count": 7,
   "metadata": {},
   "outputs": [],
   "source": [
    "# MadMiner output\n",
    "logging.basicConfig(\n",
    "    format='%(asctime)-5.5s %(name)-20.20s %(levelname)-7.7s %(message)s',\n",
    "    datefmt='%H:%M',\n",
    "    level=logging.INFO\n",
    ")\n",
    "\n",
    "# Output of all other modules (e.g. matplotlib)\n",
    "for key in logging.Logger.manager.loggerDict:\n",
    "    if \"madminer\" not in key:\n",
    "        logging.getLogger(key).setLevel(logging.WARNING)"
   ]
  },
  {
   "cell_type": "markdown",
   "metadata": {},
   "source": [
    "## 8. Check model response with various toys at different parameter values"
   ]
  },
  {
   "cell_type": "markdown",
   "metadata": {},
   "source": [
    "Generate a grid of parameter settings at which the model response will be tested. They need to be in an array, with each element of the array corresponding to an array of parameter values, e.g. for 3 parameters evaluated at `n` different points, the array is:\n",
    "\n",
    "```python\n",
    "[[param_1_point_1, param_2_point_1, param_3_point_1],\n",
    " [param_1_point_2, param_2_point_2, param_3_point_2],\n",
    " ...\n",
    " [param_1_point_n, param_2_point_n, param_3_point_n],\n",
    "```"
   ]
  },
  {
   "cell_type": "code",
   "execution_count": 8,
   "metadata": {},
   "outputs": [
    {
     "name": "stdout",
     "output_type": "stream",
     "text": [
      "[0.   0.05 0.1  0.15 0.2  0.25 0.3  0.35 0.4  0.45 0.5  0.55 0.6  0.65\n",
      " 0.7  0.75 0.8  0.85 0.9  0.95 1.  ]\n"
     ]
    }
   ],
   "source": [
    "theta_each = np.linspace(0.,1.,21)\n",
    "#theta0, theta1 = np.meshgrid(theta_each, theta_each)\n",
    "#theta_grid = np.vstack((theta0.flatten(), theta1.flatten())).T\n",
    "theta_grid = np.array([theta_each]).T\n",
    "print(theta_each)\n",
    "np.save('data/samples/theta_grid.npy', theta_grid)\n",
    "\n",
    "theta_denom = np.array([[0.,0.]])\n",
    "np.save('data/samples/theta_ref.npy', theta_denom)\n"
   ]
  },
  {
   "cell_type": "markdown",
   "metadata": {},
   "source": [
    "`forge.evaluate(theta,x)` estimated the log likelihood ratio and the score for all combination between the given phase-space points `x` and parameters `theta`. That is, if given 100 events `x` and a grid of 25 `theta` points, it will return 25\\*100 estimates for the log likelihood and 25\\*100 estimates for the  score, both indexed by `[i_theta,i_x]`."
   ]
  },
  {
   "cell_type": "code",
   "execution_count": 9,
   "metadata": {},
   "outputs": [],
   "source": [
    "forge = MLForge()\n",
    "forge.load('models/model')\n",
    "\n",
    "log_r_hat, _, _ = forge.evaluate(\n",
    "    theta0_filename='data/samples/theta_grid.npy',\n",
    "    x='data/samples/x_test.npy',\n",
    "    evaluate_score=False\n",
    ")\n",
    "\n",
    "log_r_hat_bsm, _, _ = forge.evaluate(\n",
    "    theta0_filename='data/samples/theta_grid.npy',\n",
    "    x='data/samples/x_test_bsm.npy',\n",
    "    evaluate_score=False\n",
    ")\n",
    "\n",
    "log_r_hat_bsm_morph, _, _ = forge.evaluate(\n",
    "    theta0_filename='data/samples/theta_grid.npy',\n",
    "    x='data/samples/x_test_bsm_morph.npy',\n",
    "    evaluate_score=False\n",
    ")"
   ]
  },
  {
   "cell_type": "markdown",
   "metadata": {},
   "source": [
    "Let's look at the result:"
   ]
  },
  {
   "cell_type": "code",
   "execution_count": 10,
   "metadata": {},
   "outputs": [
    {
     "name": "stdout",
     "output_type": "stream",
     "text": [
      "CP even: [-0.85387665 -0.844206   -0.80988526 -0.7520385  -0.6743574  -0.5829592\n",
      " -0.4854864  -0.38962823 -0.30162624 -0.22537728 -0.16237237 -0.11225214\n",
      " -0.07356548 -0.04442239 -0.02292278 -0.00737843  0.00360843  0.0111461\n",
      "  0.0160905   0.01909277  0.02064487]\n",
      "CP odd: [0.45866176 0.480044   0.49819863 0.5120189  0.52036184 0.5220978\n",
      " 0.51630676 0.5025514  0.4810875  0.45288852 0.41947246 0.38262036\n",
      " 0.34409878 0.3054574  0.2679228  0.23237208 0.19936028 0.169175\n",
      " 0.14189994 0.1174749  0.09574699]\n",
      "mixed: [-0.01881346 -0.00118703  0.02320839  0.05329679  0.08705959  0.12160255\n",
      "  0.15358776  0.17993532  0.19850661  0.20846438  0.21020313  0.20497641\n",
      "  0.19444323  0.18029572  0.16402866  0.14683674  0.12960002  0.11291799\n",
      "  0.0971636   0.08253952  0.06912847]\n",
      "[0.   0.05 0.1  0.15 0.2  0.25 0.3  0.35 0.4  0.45 0.5  0.55 0.6  0.65\n",
      " 0.7  0.75 0.8  0.85 0.9  0.95 1.  ]\n",
      "best fit point for CP even at: [1.]\n",
      "best fit point for CP odd at: [0.25]\n",
      "best fit point for mixed at: [0.5]\n"
     ]
    },
    {
     "data": {
      "image/png": "[encoded data removed]",
      "text/plain": [
       "<Figure size 432x360 with 1 Axes>"
      ]
     },
     "metadata": {
      "needs_background": "light"
     },
     "output_type": "display_data"
    }
   ],
   "source": [
    "#bin_size = theta_each[1] - theta_each[0]\n",
    "#edges = np.linspace(theta_each[0] - bin_size/2, theta_each[-1] + bin_size/2, len(theta_each)+1)\n",
    "\n",
    "fig = plt.figure(figsize=(6,5))\n",
    "#ax = plt.gca()\n",
    "\n",
    "expected_llr           = np.mean(log_r_hat,axis=1)\n",
    "expected_llr_bsm       = np.mean(log_r_hat_bsm,axis=1)\n",
    "expected_llr_bsm_morph = np.mean(log_r_hat_bsm_morph,axis=1)\n",
    "\n",
    "best_fit           = theta_grid[np.argmin(-2.*expected_llr)]\n",
    "best_fit_bsm       = theta_grid[np.argmin(-2.*expected_llr_bsm)]\n",
    "best_fit_bsm_morph = theta_grid[np.argmin(-2.*expected_llr_bsm_morph)]\n",
    "\n",
    "#cmin, cmax = np.min(-2*expected_llr), np.max(-2*expected_llr)\n",
    "\n",
    "print(\"CP even:\", expected_llr)\n",
    "print(\"CP odd:\", expected_llr_bsm)\n",
    "print(\"mixed:\", expected_llr_bsm_morph)\n",
    "print(theta_each)\n",
    "print(\"best fit point for CP even at:\", best_fit)\n",
    "print(\"best fit point for CP odd at:\", best_fit_bsm)\n",
    "print(\"best fit point for mixed at:\", best_fit_bsm_morph)\n",
    "\n",
    "plt.plot(theta_each, -2*expected_llr, \"o\", label='CP even')\n",
    "plt.plot(theta_each, -2*expected_llr_bsm, \"o\", label='CP odd')\n",
    "plt.plot(theta_each, -2*expected_llr_bsm_morph, \"o\", label='mixed')\n",
    "\n",
    "#pcm = ax.pcolormesh(edges, edges, -2. * expected_llr.reshape((15,15)),\n",
    "#                    norm=matplotlib.colors.Normalize(vmin=cmin, vmax=cmax),\n",
    "#                    cmap='viridis_r')\n",
    "#cbar = fig.colorbar(pcm, ax=ax, extend='both')\n",
    "#\n",
    "#plt.scatter(best_fit[0], best_fit[1], s=80., color='black', marker='*')\n",
    "\n",
    "plt.xlabel(r'$\\theta_0 = \\cos\\left(\\alpha\\right)$')\n",
    "#plt.ylabel(r'$\\theta_1$')\n",
    "plt.ylabel(r'$\\mathbb{E}_x [ -2\\, \\log \\,\\hat{r}(x | \\theta, \\theta_{SM}) ]$ (ALICE)')\n",
    "\n",
    "plt.legend()\n",
    "plt.tight_layout()\n",
    "plt.show()\n"
   ]
  },
  {
   "cell_type": "markdown",
   "metadata": {},
   "source": [
    "That's it for now. Please have a look at the documentation for a detailed description of all classes and functions. And if you're curious about SALLY, Fisher information matrices, and ensemble methods, please look at the second part of the tutorial!"
   ]
  }
 ],
 "metadata": {
  "kernelspec": {
   "display_name": "Python 3",
   "language": "python",
   "name": "python3"
  },
  "language_info": {
   "codemirror_mode": {
    "name": "ipython",
    "version": 3
   },
   "file_extension": ".py",
   "mimetype": "text/x-python",
   "name": "python",
   "nbconvert_exporter": "python",
   "pygments_lexer": "ipython3",
   "version": "3.6.7"
  }
 },
 "nbformat": 4,
 "nbformat_minor": 2
}
